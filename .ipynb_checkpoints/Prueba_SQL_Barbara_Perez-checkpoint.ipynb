{
 "cells": [
  {
   "cell_type": "markdown",
   "id": "5f0192d6",
   "metadata": {},
   "source": [
    "# <center><font color='MediumSeaGreen'> _Módulo SQL G45_</font>\n",
    "# <center><font color='MediumSeaGreen'> Examen final de PSQL </font>\n",
    "## <center> _Prueba - SQL para Data Science_ \n",
    "\n",
    "<center><b> Bárbara Pérez</b><center>"
   ]
  },
  {
   "cell_type": "markdown",
   "id": "7791883e",
   "metadata": {},
   "source": [
    "________________"
   ]
  },
  {
   "cell_type": "markdown",
   "id": "a1efad55",
   "metadata": {},
   "source": [
    "## <font color='MediumSeaGreen'>Descripción del problema</font> \n"
   ]
  },
  {
   "cell_type": "markdown",
   "id": "9891b45c",
   "metadata": {},
   "source": [
    "Desde **OkCupid** -aplicación de citas- solicitan el desarrollo de una serie de modelos predictivos.\n",
    "\n",
    "Los datos a utilizar se registraron en base a una serie de perfiles públicos dentro de 25 millas de la ciudad de San Francisco activos durante el 2011.\n",
    "\n",
    "***Caveat:*** *Los permisos para obtener estos datos provinieron del presidente y co-fundador de OkCupid, Christian Rudder, con la condición de que se mantuvieran públicos.*"
   ]
  },
  {
   "cell_type": "markdown",
   "id": "89735c2d",
   "metadata": {},
   "source": [
    "________"
   ]
  },
  {
   "cell_type": "markdown",
   "id": "95fb5307",
   "metadata": {},
   "source": [
    "## <font color='MediumSeaGreen'>Archivos</font> "
   ]
  },
  {
   "cell_type": "markdown",
   "id": "9ac6d1d7",
   "metadata": {},
   "source": [
    "La evaluación considera los siguientes documentos:\n",
    "* Un archivo de funciones auxiliares con todas las funciones implementadas.\n",
    "* Un notebook con el procedimiento implementado.\n",
    "* Un <span style='background:gainsboro'><font color='dimgray'>.zip</font></span> con los objetos serializados.\n",
    "* Un archivo pgsql donde exportará la **base de datos** creada en el punto 1. Para generar el archivo, pueden implementar la siguiente línea **desde la consola**:\n",
    "\n",
    "<span style='background:gainsboro'><font color='dimgray'>pg_dump -U nombre_usuario nombre_tabla > apellido_nombre_sql_test.pgsql</font></span>"
   ]
  },
  {
   "cell_type": "markdown",
   "id": "a3c3f6f3",
   "metadata": {},
   "source": [
    "### <font color='dimgray'>Aspectos adicionales a considerar</font>"
   ]
  },
  {
   "cell_type": "markdown",
   "id": "b2a975b4",
   "metadata": {},
   "source": [
    "● Los archivos <span style='background:gainsboro'><font color='dimgray'>csv</font></span> ya se encuentran preprocesados, **no es necesario realizar limpieza**.\n",
    "\n",
    "El procedimiento se encuentra en el archivo <span style='background:gainsboro'><font color='dimgray'>Preprocesamiento de datos</font></span>."
   ]
  },
  {
   "cell_type": "markdown",
   "id": "0b1fe2f4",
   "metadata": {},
   "source": [
    "________________"
   ]
  },
  {
   "cell_type": "markdown",
   "id": "cf9b08a8",
   "metadata": {},
   "source": [
    "#### <span style=\"color:brown\">*Todos los comentarios realizados por el alumno serán de color* **café**"
   ]
  },
  {
   "cell_type": "markdown",
   "id": "01b1b567",
   "metadata": {},
   "source": [
    "________________"
   ]
  },
  {
   "cell_type": "markdown",
   "id": "ab9ece99",
   "metadata": {},
   "source": [
    "## <font color='MediumSeaGreen'>1. Preprocesamiento</font>"
   ]
  },
  {
   "cell_type": "markdown",
   "id": "a32a0cf9",
   "metadata": {},
   "source": [
    "### 1.1 Librerías y módulos"
   ]
  },
  {
   "cell_type": "markdown",
   "id": "f5891356",
   "metadata": {},
   "source": [
    "Para la correcta realización del trabajo se hace necesesaro importar librerias no nativas de python, que permitan realziar el análisis de los datos, la transformación de estos, construir los modelos predictivos, entrenarlos y validarlos. \n",
    "\n",
    "A continuación se detallan e importan las librerías:"
   ]
  },
  {
   "cell_type": "code",
   "execution_count": 1,
   "id": "0a40596b",
   "metadata": {},
   "outputs": [],
   "source": [
    "#Importar librerias a utilizar\n",
    "import pandas as pd  #version 1.4.3\n",
    "import seaborn as sns  #version 0.11.2\n",
    "import numpy as np  #version 1.23.0\n",
    "import csv\n",
    "import psycopg2\n",
    "\n",
    "\n",
    "# Función para visualizar de forma gráfica los valores perdidos\n",
    "import missingno #version. 0.5.1\n",
    "\n",
    "#importar librerías para modelar ML \n",
    "from sklearn.linear_model import LogisticRegression  #version 1.1.2\n",
    "from sklearn.ensemble import RandomForestClassifier, GradientBoostingClassifier\n",
    "from sklearn.ensemble import AdaBoostClassifier \n",
    "from sklearn.svm import SVC\n",
    "from sklearn.tree import DecisionTreeClassifier\n",
    "from sklearn.naive_bayes import BernoulliNB\n",
    "\n",
    "#importar librerías para metricas de ML\n",
    "from sklearn.metrics import roc_curve\n",
    "from sklearn.metrics import roc_auc_score\n",
    "from sklearn.metrics import classification_report\n",
    "\n",
    "#librería para importación y exportación de modelos\n",
    "import pickle\n",
    "\n",
    "#eliminamos los mensajes de advertencia\n",
    "import warnings\n",
    "warnings.filterwarnings('ignore')"
   ]
  },
  {
   "cell_type": "code",
   "execution_count": 2,
   "id": "3206dc1c",
   "metadata": {},
   "outputs": [],
   "source": [
    "#Funciones entregadas\n",
    "import helpers"
   ]
  },
  {
   "cell_type": "markdown",
   "id": "1db7b771",
   "metadata": {},
   "source": [
    "### 1.2 Funciones a utilizar creadas"
   ]
  },
  {
   "cell_type": "markdown",
   "id": "36984f57",
   "metadata": {},
   "source": [
    "Se utilizaran funciones contenidas en las librerías importadas, con un comentario sobre su uso cuando corresponda. Se utilizarán también funciones creadas por notostros."
   ]
  },
  {
   "cell_type": "code",
   "execution_count": 3,
   "id": "33e7b11f",
   "metadata": {},
   "outputs": [],
   "source": [
    "#Importamos funciones propias\n",
    "import funciones_propias as fn"
   ]
  },
  {
   "cell_type": "markdown",
   "id": "a3cd99d6",
   "metadata": {},
   "source": [
    "### 1.3 Información del Postgresql a utilizar y conector con cursos"
   ]
  },
  {
   "cell_type": "markdown",
   "id": "3ba99493",
   "metadata": {},
   "source": [
    "Corresponde a información que se utilizará a lo largo del notebook "
   ]
  },
  {
   "cell_type": "code",
   "execution_count": 4,
   "id": "58acf6d9",
   "metadata": {},
   "outputs": [],
   "source": [
    "#Ubicacion de Postgresql:\n",
    "HOST = 'localhost'\n",
    "PORT = '5432'\n",
    "\n",
    "#Usuario:\n",
    "USERNAME = 'postgres'\n",
    "\n",
    "#Contraseña del usuario:\n",
    "PASSWORD = 'Barbara.95'\n",
    "\n",
    "#Nombre de base de datos:\n",
    "DATABASE = 'perez_barbara'"
   ]
  },
  {
   "cell_type": "code",
   "execution_count": 5,
   "id": "953eca4e",
   "metadata": {},
   "outputs": [],
   "source": [
    "#Creamos una función para obtener el conector y el cursor\n",
    "\n",
    "def conector_y_cursor():\n",
    "    conector = psycopg2.connect(host=HOST, dbname=DATABASE, user=USERNAME, password=PASSWORD, port=PORT)\n",
    "    cursor = conector.cursor()\n",
    "    return conector, cursor"
   ]
  },
  {
   "cell_type": "markdown",
   "id": "4408f425",
   "metadata": {},
   "source": [
    "_______________"
   ]
  },
  {
   "cell_type": "markdown",
   "id": "4211569f",
   "metadata": {},
   "source": [
    "## <font color='MediumSeaGreen'>2.- Requerimientos</font> "
   ]
  },
  {
   "cell_type": "markdown",
   "id": "34bfbed7",
   "metadata": {},
   "source": [
    "## <font color='dimgray'>Parte 1: Registro de los archivos en la base de datos. (3 Puntos) </font>"
   ]
  },
  {
   "cell_type": "markdown",
   "id": "66823203",
   "metadata": {},
   "source": [
    "* Generar una nueva base de datos con la siguiente nomenclatura: <span style='background:gainsboro'><font color='dimgray'>apellido_nombre</font></span>.\n",
    "* Importar en tablas los archivos <span style='background:gainsboro'><font color='dimgray'>train_cupid.csv</font></span> y <span style='background:gainsboro'><font color='dimgray'>test_cupid.csv</font></span> a un motor Postgres, **implementando solo la librería <span style='background:gainsboro'><font color='dimgray'>psycopg2</font></span>**. Las tablas deben contener los nombres de las columnas y el total de los registros presente en cada archivo."
   ]
  },
  {
   "cell_type": "code",
   "execution_count": 6,
   "id": "26972624",
   "metadata": {
    "scrolled": true
   },
   "outputs": [
    {
     "name": "stdout",
     "output_type": "stream",
     "text": [
      "--01 Crear base de datos \"apellido_nombre\"\n",
      "\n",
      "drop database if exists perez_barbara;\n",
      "create database perez_barbara;\n",
      "\n"
     ]
    }
   ],
   "source": [
    "#Crear base de datos\n",
    "!cat crea_db_prueba_sql.sql"
   ]
  },
  {
   "cell_type": "markdown",
   "id": "e96f1a9a",
   "metadata": {},
   "source": [
    "### Luego de correr la siguiente celda porfavor <font color='red'>*dirigirse a la terminal  y colocar la contraseña*</font>, en este caso es 'Barbara.95'"
   ]
  },
  {
   "attachments": {
    "image.png": {
     "image/png": "[encoded data removed]"
    }
   },
   "cell_type": "markdown",
   "id": "b08879ca",
   "metadata": {},
   "source": [
    "![image.png](attachment:image.png)"
   ]
  },
  {
   "cell_type": "code",
   "execution_count": 7,
   "id": "45a6c012",
   "metadata": {},
   "outputs": [
    {
     "name": "stdout",
     "output_type": "stream",
     "text": [
      "DROP DATABASE\n",
      "CREATE DATABASE\n"
     ]
    }
   ],
   "source": [
    "#Crear database en psql.\n",
    "!psql -U $USERNAME -f \"crea_db_prueba_sql.sql\" \n",
    "\n",
    "#Luego de correr esta celda porfavor dirigirse al cmd y colocar la contraseña, en este caso es 'Barbara.95'"
   ]
  },
  {
   "cell_type": "code",
   "execution_count": 8,
   "id": "4f61049e",
   "metadata": {
    "scrolled": true
   },
   "outputs": [
    {
     "name": "stdout",
     "output_type": "stream",
     "text": [
      "test_cupid.csv\n",
      "train_cupid.csv\n"
     ]
    }
   ],
   "source": [
    "#Observamos la existencia de los archivos que hay en la carpeta\n",
    "!ls *.csv"
   ]
  },
  {
   "cell_type": "code",
   "execution_count": 9,
   "id": "724fa8cf",
   "metadata": {},
   "outputs": [],
   "source": [
    "#Importamos las bases de datos\n",
    "test_cupid = pd.read_csv('test_cupid.csv')\n",
    "train_cupid = pd.read_csv('train_cupid.csv')"
   ]
  },
  {
   "cell_type": "code",
   "execution_count": 10,
   "id": "2560895d",
   "metadata": {},
   "outputs": [
    {
     "name": "stdout",
     "output_type": "stream",
     "text": [
      "Campos que difieren entre DataFrame de entrenamiento y DataFrame de testeo: \n",
      " set()\n",
      "\n",
      "Campos que difieren entre DataFrame de testeo y DataFrame de entrenamiento: \n",
      " set()\n"
     ]
    }
   ],
   "source": [
    "#Comparamos las columnas de ambos DataFrame\n",
    "fn.compara_columns_df (train_cupid,test_cupid)"
   ]
  },
  {
   "cell_type": "markdown",
   "id": "60bbb3da",
   "metadata": {},
   "source": [
    "<span style=\"color:brown\">*No se observan diferencias entre ambos archivos.*"
   ]
  },
  {
   "cell_type": "code",
   "execution_count": 11,
   "id": "5b7d329c",
   "metadata": {
    "scrolled": true
   },
   "outputs": [
    {
     "name": "stdout",
     "output_type": "stream",
     "text": [
      "La cantidad de registros en df de entrenamiento:\n",
      " filas, columnas: (20081, 98)\n",
      "La cantidad de registros en df de testeo:\n",
      " filas, columnas: (19943, 98)\n"
     ]
    }
   ],
   "source": [
    "#Contamos las filas y las columnas de ambos DataFrame\n",
    "fn.contador_filas_columns(train_cupid,test_cupid)"
   ]
  },
  {
   "cell_type": "markdown",
   "id": "a58014a6",
   "metadata": {},
   "source": [
    "<span style=\"color:brown\"> *Se observan las mismas cantidad de columnas entre ambos archivos, pero una diferencia de 138 filas.*"
   ]
  },
  {
   "cell_type": "code",
   "execution_count": 12,
   "id": "11a58af0",
   "metadata": {
    "scrolled": false
   },
   "outputs": [
    {
     "name": "stdout",
     "output_type": "stream",
     "text": [
      "<class 'pandas.core.frame.DataFrame'>\n",
      "RangeIndex: 20081 entries, 0 to 20080\n",
      "Data columns (total 98 columns):\n",
      " #   Column                          Non-Null Count  Dtype  \n",
      "---  ------                          --------------  -----  \n",
      " 0   age                             20081 non-null  int64  \n",
      " 1   height                          20081 non-null  float64\n",
      " 2   virgo                           20081 non-null  int64  \n",
      " 3   taurus                          20081 non-null  int64  \n",
      " 4   scorpio                         20081 non-null  int64  \n",
      " 5   pisces                          20081 non-null  int64  \n",
      " 6   libra                           20081 non-null  int64  \n",
      " 7   leo                             20081 non-null  int64  \n",
      " 8   gemini                          20081 non-null  int64  \n",
      " 9   aries                           20081 non-null  int64  \n",
      " 10  aquarius                        20081 non-null  int64  \n",
      " 11  cancer                          20081 non-null  int64  \n",
      " 12  sagittarius                     20081 non-null  int64  \n",
      " 13  asian                           20081 non-null  int64  \n",
      " 14  hispanic / latin                20081 non-null  int64  \n",
      " 15  black                           20081 non-null  int64  \n",
      " 16  indian                          20081 non-null  int64  \n",
      " 17  pacific islander                20081 non-null  int64  \n",
      " 18  native american                 20081 non-null  int64  \n",
      " 19  middle eastern                  20081 non-null  int64  \n",
      " 20  colorado                        20081 non-null  int64  \n",
      " 21  new york                        20081 non-null  int64  \n",
      " 22  oregon                          20081 non-null  int64  \n",
      " 23  arizona                         20081 non-null  int64  \n",
      " 24  hawaii                          20081 non-null  int64  \n",
      " 25  montana                         20081 non-null  int64  \n",
      " 26  wisconsin                       20081 non-null  int64  \n",
      " 27  virginia                        20081 non-null  int64  \n",
      " 28  spain                           20081 non-null  int64  \n",
      " 29  nevada                          20081 non-null  int64  \n",
      " 30  illinois                        20081 non-null  int64  \n",
      " 31  vietnam                         20081 non-null  int64  \n",
      " 32  ireland                         20081 non-null  int64  \n",
      " 33  louisiana                       20081 non-null  int64  \n",
      " 34  michigan                        20081 non-null  int64  \n",
      " 35  texas                           20081 non-null  int64  \n",
      " 36  united kingdom                  20081 non-null  int64  \n",
      " 37  massachusetts                   20081 non-null  int64  \n",
      " 38  north carolina                  20081 non-null  int64  \n",
      " 39  idaho                           20081 non-null  int64  \n",
      " 40  mississippi                     20081 non-null  int64  \n",
      " 41  new jersey                      20081 non-null  int64  \n",
      " 42  florida                         20081 non-null  int64  \n",
      " 43  minnesota                       20081 non-null  int64  \n",
      " 44  georgia                         20081 non-null  int64  \n",
      " 45  utah                            20081 non-null  int64  \n",
      " 46  washington                      20081 non-null  int64  \n",
      " 47  west virginia                   20081 non-null  int64  \n",
      " 48  connecticut                     20081 non-null  int64  \n",
      " 49  tennessee                       20081 non-null  int64  \n",
      " 50  rhode island                    20081 non-null  int64  \n",
      " 51  district of columbia            20081 non-null  int64  \n",
      " 52  canada                          20081 non-null  int64  \n",
      " 53  missouri                        20081 non-null  int64  \n",
      " 54  germany                         20081 non-null  int64  \n",
      " 55  pennsylvania                    20081 non-null  int64  \n",
      " 56  netherlands                     20081 non-null  int64  \n",
      " 57  switzerland                     20081 non-null  int64  \n",
      " 58  mexico                          20081 non-null  int64  \n",
      " 59  ohio                            20081 non-null  int64  \n",
      " 60  agnosticism                     20081 non-null  int64  \n",
      " 61  atheism                         20081 non-null  int64  \n",
      " 62  catholicism                     20081 non-null  int64  \n",
      " 63  buddhism                        20081 non-null  int64  \n",
      " 64  judaism                         20081 non-null  int64  \n",
      " 65  hinduism                        20081 non-null  int64  \n",
      " 66  islam                           20081 non-null  int64  \n",
      " 67  pro_dogs                        20081 non-null  float64\n",
      " 68  pro_cats                        20081 non-null  float64\n",
      " 69  spanish                         20081 non-null  int64  \n",
      " 70  chinese                         20081 non-null  int64  \n",
      " 71  french                          20081 non-null  int64  \n",
      " 72  german                          20081 non-null  int64  \n",
      " 73  single                          20081 non-null  int64  \n",
      " 74  seeing_someone                  20081 non-null  int64  \n",
      " 75  available                       20081 non-null  int64  \n",
      " 76  employed                        20081 non-null  int64  \n",
      " 77  income_between_25_50            20081 non-null  int64  \n",
      " 78  income_between_50_75            20081 non-null  int64  \n",
      " 79  income_over_75                  20081 non-null  int64  \n",
      " 80  drugs_often                     20081 non-null  int64  \n",
      " 81  drugs_sometimes                 20081 non-null  int64  \n",
      " 82  drinks_not at all               20081 non-null  int64  \n",
      " 83  drinks_often                    20081 non-null  int64  \n",
      " 84  drinks_rarely                   20081 non-null  int64  \n",
      " 85  drinks_socially                 20081 non-null  int64  \n",
      " 86  drinks_very often               20081 non-null  int64  \n",
      " 87  orientation_gay                 20081 non-null  int64  \n",
      " 88  orientation_straight            20081 non-null  int64  \n",
      " 89  sex_m                           20081 non-null  int64  \n",
      " 90  smokes_sometimes                20081 non-null  int64  \n",
      " 91  smokes_trying to quit           20081 non-null  int64  \n",
      " 92  smokes_when drinking            20081 non-null  int64  \n",
      " 93  smokes_yes                      20081 non-null  int64  \n",
      " 94  body_type_overweight            20081 non-null  int64  \n",
      " 95  body_type_regular               20081 non-null  int64  \n",
      " 96  education_high_school           20081 non-null  int64  \n",
      " 97  education_undergrad_university  20081 non-null  int64  \n",
      "dtypes: float64(3), int64(95)\n",
      "memory usage: 15.0 MB\n"
     ]
    }
   ],
   "source": [
    "#Revisamos los tipos de información de \n",
    "train_cupid.info()"
   ]
  },
  {
   "cell_type": "code",
   "execution_count": 13,
   "id": "76de58ad",
   "metadata": {
    "scrolled": true
   },
   "outputs": [
    {
     "name": "stdout",
     "output_type": "stream",
     "text": [
      "<class 'pandas.core.frame.DataFrame'>\n",
      "RangeIndex: 19943 entries, 0 to 19942\n",
      "Data columns (total 98 columns):\n",
      " #   Column                          Non-Null Count  Dtype  \n",
      "---  ------                          --------------  -----  \n",
      " 0   age                             19943 non-null  int64  \n",
      " 1   height                          19943 non-null  float64\n",
      " 2   virgo                           19943 non-null  int64  \n",
      " 3   taurus                          19943 non-null  int64  \n",
      " 4   scorpio                         19943 non-null  int64  \n",
      " 5   pisces                          19943 non-null  int64  \n",
      " 6   libra                           19943 non-null  int64  \n",
      " 7   leo                             19943 non-null  int64  \n",
      " 8   gemini                          19943 non-null  int64  \n",
      " 9   aries                           19943 non-null  int64  \n",
      " 10  aquarius                        19943 non-null  int64  \n",
      " 11  cancer                          19943 non-null  int64  \n",
      " 12  sagittarius                     19943 non-null  int64  \n",
      " 13  asian                           19943 non-null  int64  \n",
      " 14  hispanic / latin                19943 non-null  int64  \n",
      " 15  black                           19943 non-null  int64  \n",
      " 16  indian                          19943 non-null  int64  \n",
      " 17  pacific islander                19943 non-null  int64  \n",
      " 18  native american                 19943 non-null  int64  \n",
      " 19  middle eastern                  19943 non-null  int64  \n",
      " 20  colorado                        19943 non-null  int64  \n",
      " 21  new york                        19943 non-null  int64  \n",
      " 22  oregon                          19943 non-null  int64  \n",
      " 23  arizona                         19943 non-null  int64  \n",
      " 24  hawaii                          19943 non-null  int64  \n",
      " 25  montana                         19943 non-null  int64  \n",
      " 26  wisconsin                       19943 non-null  int64  \n",
      " 27  virginia                        19943 non-null  int64  \n",
      " 28  spain                           19943 non-null  int64  \n",
      " 29  nevada                          19943 non-null  int64  \n",
      " 30  illinois                        19943 non-null  int64  \n",
      " 31  vietnam                         19943 non-null  int64  \n",
      " 32  ireland                         19943 non-null  int64  \n",
      " 33  louisiana                       19943 non-null  int64  \n",
      " 34  michigan                        19943 non-null  int64  \n",
      " 35  texas                           19943 non-null  int64  \n",
      " 36  united kingdom                  19943 non-null  int64  \n",
      " 37  massachusetts                   19943 non-null  int64  \n",
      " 38  north carolina                  19943 non-null  int64  \n",
      " 39  idaho                           19943 non-null  int64  \n",
      " 40  mississippi                     19943 non-null  int64  \n",
      " 41  new jersey                      19943 non-null  int64  \n",
      " 42  florida                         19943 non-null  int64  \n",
      " 43  minnesota                       19943 non-null  int64  \n",
      " 44  georgia                         19943 non-null  int64  \n",
      " 45  utah                            19943 non-null  int64  \n",
      " 46  washington                      19943 non-null  int64  \n",
      " 47  west virginia                   19943 non-null  int64  \n",
      " 48  connecticut                     19943 non-null  int64  \n",
      " 49  tennessee                       19943 non-null  int64  \n",
      " 50  rhode island                    19943 non-null  int64  \n",
      " 51  district of columbia            19943 non-null  int64  \n",
      " 52  canada                          19943 non-null  int64  \n",
      " 53  missouri                        19943 non-null  int64  \n",
      " 54  germany                         19943 non-null  int64  \n",
      " 55  pennsylvania                    19943 non-null  int64  \n",
      " 56  netherlands                     19943 non-null  int64  \n",
      " 57  switzerland                     19943 non-null  int64  \n",
      " 58  mexico                          19943 non-null  int64  \n",
      " 59  ohio                            19943 non-null  int64  \n",
      " 60  agnosticism                     19943 non-null  int64  \n",
      " 61  atheism                         19943 non-null  int64  \n",
      " 62  catholicism                     19943 non-null  int64  \n",
      " 63  buddhism                        19943 non-null  int64  \n",
      " 64  judaism                         19943 non-null  int64  \n",
      " 65  hinduism                        19943 non-null  int64  \n",
      " 66  islam                           19943 non-null  int64  \n",
      " 67  pro_dogs                        19943 non-null  float64\n",
      " 68  pro_cats                        19943 non-null  float64\n",
      " 69  spanish                         19943 non-null  int64  \n",
      " 70  chinese                         19943 non-null  int64  \n",
      " 71  french                          19943 non-null  int64  \n",
      " 72  german                          19943 non-null  int64  \n",
      " 73  single                          19943 non-null  int64  \n",
      " 74  seeing_someone                  19943 non-null  int64  \n",
      " 75  available                       19943 non-null  int64  \n",
      " 76  employed                        19943 non-null  int64  \n",
      " 77  income_between_25_50            19943 non-null  int64  \n",
      " 78  income_between_50_75            19943 non-null  int64  \n",
      " 79  income_over_75                  19943 non-null  int64  \n",
      " 80  drugs_often                     19943 non-null  int64  \n",
      " 81  drugs_sometimes                 19943 non-null  int64  \n",
      " 82  drinks_not at all               19943 non-null  int64  \n",
      " 83  drinks_often                    19943 non-null  int64  \n",
      " 84  drinks_rarely                   19943 non-null  int64  \n",
      " 85  drinks_socially                 19943 non-null  int64  \n",
      " 86  drinks_very often               19943 non-null  int64  \n",
      " 87  orientation_gay                 19943 non-null  int64  \n",
      " 88  orientation_straight            19943 non-null  int64  \n",
      " 89  sex_m                           19943 non-null  int64  \n",
      " 90  smokes_sometimes                19943 non-null  int64  \n",
      " 91  smokes_trying to quit           19943 non-null  int64  \n",
      " 92  smokes_when drinking            19943 non-null  int64  \n",
      " 93  smokes_yes                      19943 non-null  int64  \n",
      " 94  body_type_overweight            19943 non-null  int64  \n",
      " 95  body_type_regular               19943 non-null  int64  \n",
      " 96  education_high_school           19943 non-null  int64  \n",
      " 97  education_undergrad_university  19943 non-null  int64  \n",
      "dtypes: float64(3), int64(95)\n",
      "memory usage: 14.9 MB\n"
     ]
    }
   ],
   "source": [
    "#Revisamos los tipos de información de los DataFrame\n",
    "test_cupid.info()"
   ]
  },
  {
   "cell_type": "markdown",
   "id": "2342ab8e",
   "metadata": {},
   "source": [
    "* <span style=\"color:brown\">Para ambos DataFrame se observa que las columnas 'height', 'pro_dogs' y 'pro_cats' poseen números flotantes.\n",
    "* <span style=\"color:brown\">En ambos DataFrame no se observan datos nulos."
   ]
  },
  {
   "cell_type": "code",
   "execution_count": 14,
   "id": "f057e0eb",
   "metadata": {},
   "outputs": [],
   "source": [
    "# Creamos una lista con todos los nombres de las variables\n",
    "#variables \n",
    "lista_nombre_columnas = []\n",
    "for n, i in enumerate(test_cupid):\n",
    "    if test_cupid[i].dtypes ==\"float64\":\n",
    "        lista_nombre_columnas.append(i)\n",
    "        \n",
    "    elif test_cupid[i].dtypes ==\"int64\":\n",
    "        lista_nombre_columnas.append(i)"
   ]
  },
  {
   "cell_type": "markdown",
   "id": "92893bc6",
   "metadata": {},
   "source": [
    "* <span style=\"color:brown\">Decidimos crear una lista con la información de las columnas del DataFrame, con el fin de ocuparlos a futuro como el nombre del DataFrame que crearemos con psql."
   ]
  },
  {
   "cell_type": "code",
   "execution_count": 15,
   "id": "c25e1806",
   "metadata": {
    "scrolled": true
   },
   "outputs": [
    {
     "data": {
      "text/plain": [
       "['age',\n",
       " 'height',\n",
       " 'virgo',\n",
       " 'taurus',\n",
       " 'scorpio',\n",
       " 'pisces',\n",
       " 'libra',\n",
       " 'leo',\n",
       " 'gemini',\n",
       " 'aries',\n",
       " 'aquarius',\n",
       " 'cancer',\n",
       " 'sagittarius',\n",
       " 'asian',\n",
       " 'hispanic / latin',\n",
       " 'black',\n",
       " 'indian',\n",
       " 'pacific islander',\n",
       " 'native american',\n",
       " 'middle eastern',\n",
       " 'colorado',\n",
       " 'new york',\n",
       " 'oregon',\n",
       " 'arizona',\n",
       " 'hawaii',\n",
       " 'montana',\n",
       " 'wisconsin',\n",
       " 'virginia',\n",
       " 'spain',\n",
       " 'nevada',\n",
       " 'illinois',\n",
       " 'vietnam',\n",
       " 'ireland',\n",
       " 'louisiana',\n",
       " 'michigan',\n",
       " 'texas',\n",
       " 'united kingdom',\n",
       " 'massachusetts',\n",
       " 'north carolina',\n",
       " 'idaho',\n",
       " 'mississippi',\n",
       " 'new jersey',\n",
       " 'florida',\n",
       " 'minnesota',\n",
       " 'georgia',\n",
       " 'utah',\n",
       " 'washington',\n",
       " 'west virginia',\n",
       " 'connecticut',\n",
       " 'tennessee',\n",
       " 'rhode island',\n",
       " 'district of columbia',\n",
       " 'canada',\n",
       " 'missouri',\n",
       " 'germany',\n",
       " 'pennsylvania',\n",
       " 'netherlands',\n",
       " 'switzerland',\n",
       " 'mexico',\n",
       " 'ohio',\n",
       " 'agnosticism',\n",
       " 'atheism',\n",
       " 'catholicism',\n",
       " 'buddhism',\n",
       " 'judaism',\n",
       " 'hinduism',\n",
       " 'islam',\n",
       " 'pro_dogs',\n",
       " 'pro_cats',\n",
       " 'spanish',\n",
       " 'chinese',\n",
       " 'french',\n",
       " 'german',\n",
       " 'single',\n",
       " 'seeing_someone',\n",
       " 'available',\n",
       " 'employed',\n",
       " 'income_between_25_50',\n",
       " 'income_between_50_75',\n",
       " 'income_over_75',\n",
       " 'drugs_often',\n",
       " 'drugs_sometimes',\n",
       " 'drinks_not at all',\n",
       " 'drinks_often',\n",
       " 'drinks_rarely',\n",
       " 'drinks_socially',\n",
       " 'drinks_very often',\n",
       " 'orientation_gay',\n",
       " 'orientation_straight',\n",
       " 'sex_m',\n",
       " 'smokes_sometimes',\n",
       " 'smokes_trying to quit',\n",
       " 'smokes_when drinking',\n",
       " 'smokes_yes',\n",
       " 'body_type_overweight',\n",
       " 'body_type_regular',\n",
       " 'education_high_school',\n",
       " 'education_undergrad_university']"
      ]
     },
     "execution_count": 15,
     "metadata": {},
     "output_type": "execute_result"
    }
   ],
   "source": [
    "lista_nombre_columnas"
   ]
  },
  {
   "cell_type": "markdown",
   "id": "c315ccbb",
   "metadata": {},
   "source": [
    "* <span style=\"color:brown\">Nos percatamos que hay nombres con espacios vacios, para eliminar dicho problema cambiaremos los caracteres especiales por espacios vacios y luego cambiaremos los espacios vacios por un guión bajo"
   ]
  },
  {
   "cell_type": "code",
   "execution_count": 16,
   "id": "114cc834",
   "metadata": {},
   "outputs": [],
   "source": [
    "#Recodificar espacios y slash\n",
    "lista_nombre_columnas = list(map(lambda x: x.replace(' / ', ' '), lista_nombre_columnas))\n",
    "lista_nombre_columnas = list(map(lambda x: x.replace(' ', '_'), lista_nombre_columnas))"
   ]
  },
  {
   "cell_type": "code",
   "execution_count": 17,
   "id": "ab691bce",
   "metadata": {},
   "outputs": [
    {
     "data": {
      "text/plain": [
       "['age',\n",
       " 'height',\n",
       " 'virgo',\n",
       " 'taurus',\n",
       " 'scorpio',\n",
       " 'pisces',\n",
       " 'libra',\n",
       " 'leo',\n",
       " 'gemini',\n",
       " 'aries',\n",
       " 'aquarius',\n",
       " 'cancer',\n",
       " 'sagittarius',\n",
       " 'asian',\n",
       " 'hispanic_latin',\n",
       " 'black',\n",
       " 'indian',\n",
       " 'pacific_islander',\n",
       " 'native_american',\n",
       " 'middle_eastern',\n",
       " 'colorado',\n",
       " 'new_york',\n",
       " 'oregon',\n",
       " 'arizona',\n",
       " 'hawaii',\n",
       " 'montana',\n",
       " 'wisconsin',\n",
       " 'virginia',\n",
       " 'spain',\n",
       " 'nevada',\n",
       " 'illinois',\n",
       " 'vietnam',\n",
       " 'ireland',\n",
       " 'louisiana',\n",
       " 'michigan',\n",
       " 'texas',\n",
       " 'united_kingdom',\n",
       " 'massachusetts',\n",
       " 'north_carolina',\n",
       " 'idaho',\n",
       " 'mississippi',\n",
       " 'new_jersey',\n",
       " 'florida',\n",
       " 'minnesota',\n",
       " 'georgia',\n",
       " 'utah',\n",
       " 'washington',\n",
       " 'west_virginia',\n",
       " 'connecticut',\n",
       " 'tennessee',\n",
       " 'rhode_island',\n",
       " 'district_of_columbia',\n",
       " 'canada',\n",
       " 'missouri',\n",
       " 'germany',\n",
       " 'pennsylvania',\n",
       " 'netherlands',\n",
       " 'switzerland',\n",
       " 'mexico',\n",
       " 'ohio',\n",
       " 'agnosticism',\n",
       " 'atheism',\n",
       " 'catholicism',\n",
       " 'buddhism',\n",
       " 'judaism',\n",
       " 'hinduism',\n",
       " 'islam',\n",
       " 'pro_dogs',\n",
       " 'pro_cats',\n",
       " 'spanish',\n",
       " 'chinese',\n",
       " 'french',\n",
       " 'german',\n",
       " 'single',\n",
       " 'seeing_someone',\n",
       " 'available',\n",
       " 'employed',\n",
       " 'income_between_25_50',\n",
       " 'income_between_50_75',\n",
       " 'income_over_75',\n",
       " 'drugs_often',\n",
       " 'drugs_sometimes',\n",
       " 'drinks_not_at_all',\n",
       " 'drinks_often',\n",
       " 'drinks_rarely',\n",
       " 'drinks_socially',\n",
       " 'drinks_very_often',\n",
       " 'orientation_gay',\n",
       " 'orientation_straight',\n",
       " 'sex_m',\n",
       " 'smokes_sometimes',\n",
       " 'smokes_trying_to_quit',\n",
       " 'smokes_when_drinking',\n",
       " 'smokes_yes',\n",
       " 'body_type_overweight',\n",
       " 'body_type_regular',\n",
       " 'education_high_school',\n",
       " 'education_undergrad_university']"
      ]
     },
     "execution_count": 17,
     "metadata": {},
     "output_type": "execute_result"
    }
   ],
   "source": [
    "#Observamos los cambios realizados en la lista creada\n",
    "lista_nombre_columnas"
   ]
  },
  {
   "cell_type": "code",
   "execution_count": 18,
   "id": "5df2bc26",
   "metadata": {
    "scrolled": false
   },
   "outputs": [
    {
     "name": "stdout",
     "output_type": "stream",
     "text": [
      "El total de numero de elementos de la lista es:98\n"
     ]
    }
   ],
   "source": [
    "#Averiguamos el largo de nuestra lista creada\n",
    "print(f\"El total de numero de elementos de la lista es:{len(lista_nombre_columnas)}\")"
   ]
  },
  {
   "cell_type": "markdown",
   "id": "c5532423",
   "metadata": {},
   "source": [
    "* <span style=\"color:brown\">El total de los elementos en la lista es de 98, lo que significa que existirán 98 columnas en total en nuestros futuros DataFrame."
   ]
  },
  {
   "cell_type": "code",
   "execution_count": 19,
   "id": "e5c80db6",
   "metadata": {},
   "outputs": [],
   "source": [
    "#Creamos el codigo para la futura tabla con sql indicando el nombre de la columna y el tipo de dato\n",
    "create_table= \"create table \"\n",
    "\n",
    "tabla_query= \"(\"\n",
    "for index, column in enumerate (lista_nombre_columnas, start=1):\n",
    "    if column =='height' or column=='pro_cats' or column=='pro_dogs':\n",
    "        tabla_query += f\"{column} float\"\n",
    "    else:\n",
    "        tabla_query += f\"{column} int\"\n",
    "    if index <98:\n",
    "        tabla_query+=\",\"\n",
    "\n",
    "tabla_query += \");\""
   ]
  },
  {
   "cell_type": "code",
   "execution_count": 20,
   "id": "ad507491",
   "metadata": {
    "scrolled": true
   },
   "outputs": [
    {
     "data": {
      "text/plain": [
       "'(age int,height float,virgo int,taurus int,scorpio int,pisces int,libra int,leo int,gemini int,aries int,aquarius int,cancer int,sagittarius int,asian int,hispanic_latin int,black int,indian int,pacific_islander int,native_american int,middle_eastern int,colorado int,new_york int,oregon int,arizona int,hawaii int,montana int,wisconsin int,virginia int,spain int,nevada int,illinois int,vietnam int,ireland int,louisiana int,michigan int,texas int,united_kingdom int,massachusetts int,north_carolina int,idaho int,mississippi int,new_jersey int,florida int,minnesota int,georgia int,utah int,washington int,west_virginia int,connecticut int,tennessee int,rhode_island int,district_of_columbia int,canada int,missouri int,germany int,pennsylvania int,netherlands int,switzerland int,mexico int,ohio int,agnosticism int,atheism int,catholicism int,buddhism int,judaism int,hinduism int,islam int,pro_dogs float,pro_cats float,spanish int,chinese int,french int,german int,single int,seeing_someone int,available int,employed int,income_between_25_50 int,income_between_50_75 int,income_over_75 int,drugs_often int,drugs_sometimes int,drinks_not_at_all int,drinks_often int,drinks_rarely int,drinks_socially int,drinks_very_often int,orientation_gay int,orientation_straight int,sex_m int,smokes_sometimes int,smokes_trying_to_quit int,smokes_when_drinking int,smokes_yes int,body_type_overweight int,body_type_regular int,education_high_school int,education_undergrad_university int);'"
      ]
     },
     "execution_count": 20,
     "metadata": {},
     "output_type": "execute_result"
    }
   ],
   "source": [
    "#Observamos los cambios realizados\n",
    "tabla_query"
   ]
  },
  {
   "cell_type": "code",
   "execution_count": 21,
   "id": "2fc0f00a",
   "metadata": {},
   "outputs": [],
   "source": [
    "#llamamos al cursor y conector\n",
    "conector, cursor = conector_y_cursor()"
   ]
  },
  {
   "cell_type": "code",
   "execution_count": 22,
   "id": "37354127",
   "metadata": {},
   "outputs": [],
   "source": [
    "#Creamos las tablas en nuestro sql\n",
    "for tabla in ['train_cupid', 'test_cupid']:\n",
    "    #Eliminamos la tabla en caso de que exista\n",
    "    query1= f\"drop table if exists {tabla};\"\n",
    "    cursor.execute(query1)\n",
    "    conector.commit()\n",
    "    \n",
    "    #Creamos la query con los nombres de la lista y sus tipo de datos\n",
    "    query1 = create_table +tabla+tabla_query\n",
    "    cursor.execute(query1)\n",
    "conector.commit()"
   ]
  },
  {
   "cell_type": "code",
   "execution_count": 23,
   "id": "8a13d212",
   "metadata": {},
   "outputs": [],
   "source": [
    "#Creamos una función 'colocar_info_tabla':\n",
    "\n",
    "def colocar_info_tabla(nombre_tabla):\n",
    "    \"\"\"\n",
    "    Permite colocar información en tablas \n",
    "        Parametros:\n",
    "            nombre_tabla: Nombre de tabla a crear con psql, desde un csv existenta.\n",
    "        \n",
    "        Retorno:\n",
    "            Retorna tabla con información obtenida desde un csv\n",
    "    \"\"\"\n",
    "    with open ('./'+nombre_tabla+'.csv', 'r') as file:\n",
    "        #Realizamos la entrada de datos\n",
    "        reader = csv.reader(file)\n",
    "        #Ignorar la primera fila, debido a que contiene los nombres de las columnas, anteriormente ya habiamos guardado los nombres.\n",
    "        next(reader)\n",
    "\n",
    "        #Agregamos la información a las otras filas (%s = texto)\n",
    "        for row in reader:\n",
    "            info_tabla = \"INSERT INTO \"+nombre_tabla+\" VALUES (\"\n",
    "            info_tabla += \"%s,\"*97\n",
    "            info_tabla += \"%s\"\n",
    "            info_tabla += \")\"\n",
    "\n",
    "            cursor.execute(info_tabla, row)\n",
    "\n",
    "        conector.commit()"
   ]
  },
  {
   "cell_type": "code",
   "execution_count": 24,
   "id": "4fb06358",
   "metadata": {},
   "outputs": [],
   "source": [
    "#Colocamos información a la tabla 'test_cupid'\n",
    "colocar_info_tabla('test_cupid')"
   ]
  },
  {
   "cell_type": "code",
   "execution_count": 25,
   "id": "511ad401",
   "metadata": {},
   "outputs": [],
   "source": [
    "#Colocamos información a la tabla 'train_cupid'\n",
    "colocar_info_tabla('train_cupid')"
   ]
  },
  {
   "cell_type": "code",
   "execution_count": 26,
   "id": "8d0a1840",
   "metadata": {
    "scrolled": true
   },
   "outputs": [
    {
     "name": "stdout",
     "output_type": "stream",
     "text": [
      "Los numeros de tablas existentes son: 2\n",
      "\n",
      "Nombre de tabla: train_cupid\n",
      "Cantidad de filas: 20081\n",
      "\n",
      "Nombre de tabla: test_cupid\n",
      "Cantidad de filas: 19943\n",
      "\n"
     ]
    }
   ],
   "source": [
    "#Averiguamos el total de datos colocados en cada tabla:\n",
    "\n",
    "#Revisamos el total de tablas existentes\n",
    "cursor.execute(\"SELECT table_name, table_schema FROM information_schema.tables WHERE table_schema = 'public' ORDER BY table_name;\")\n",
    "n_tablas = cursor.fetchall()\n",
    "print(f\"Los numeros de tablas existentes son: {len(n_tablas)}\\n\")\n",
    "\n",
    "#Averiguamos la cantidad de filas corresponfiente en cada tabla\n",
    "for tabla in ['train_cupid', 'test_cupid']:\n",
    "    print(f\"Nombre de tabla: {tabla}\")\n",
    "    query = f\"select * from {tabla}\"\n",
    "    cursor.execute(query)\n",
    "    print(f\"Cantidad de filas: {cursor.rowcount}\\n\")"
   ]
  },
  {
   "cell_type": "markdown",
   "id": "e1fe7944",
   "metadata": {},
   "source": [
    "* <span style=\"color:brown\"> Observamos que la cantidad de filas en cada tabla creada corresponde a la cantidad de filas en el primer DataFrame creado."
   ]
  },
  {
   "cell_type": "code",
   "execution_count": 27,
   "id": "f9f19e85",
   "metadata": {},
   "outputs": [],
   "source": [
    "#Cerramos sesión por seguridad\n",
    "conector.close()"
   ]
  },
  {
   "cell_type": "markdown",
   "id": "f0ae86d2",
   "metadata": {},
   "source": [
    "_______"
   ]
  },
  {
   "cell_type": "markdown",
   "id": "e8700b11",
   "metadata": {},
   "source": [
    "## <font color='dimgray'>Parte 2: Entrenamiento de modelos (3.5 Puntos) </font>"
   ]
  },
  {
   "cell_type": "markdown",
   "id": "57167da4",
   "metadata": {},
   "source": [
    "* Ingestar la tabla de training **mediante** <span style='background:gainsboro'><font color='dimgray'>psycopg2</font></span> para el posterior entrenamiento del modelo.\n",
    "* Entrenar los siguientes modelos (sin necesidad de ajustar por hiper parámetros):\n",
    "    * <span style='background:gainsboro'><font color='dimgray'>GradientBoostingClassifier</font></span>, <span style='background:gainsboro'><font color='dimgray'>AdaBoostClassifer</font></span>, <span style='background:gainsboro'><font color='dimgray'>RandomForestClassifier</font></span>, <span style='background:gainsboro'><font color='dimgray'>SVC</font></span>, <span style='background:gainsboro'><font color='dimgray'>DecisionTreeClassifier</font></span>, <span style='background:gainsboro'><font color='dimgray'>LogisticRegression</font></span>, <span style='background:gainsboro'><font color='dimgray'>BernoulliNB</font></span>.\n",
    "    * Existen tres vectores objetivos a evaluar: single, seeing someone y available.\n",
    "* Serializar el objeto y preservarlo por cada combinación de modelo entrenado y vector objetivo"
   ]
  },
  {
   "cell_type": "code",
   "execution_count": 28,
   "id": "951768af",
   "metadata": {},
   "outputs": [],
   "source": [
    "#Iniciamos seción con psycopg2\n",
    "#llamamos al cursor y conector\n",
    "conector, cursor = conector_y_cursor()"
   ]
  },
  {
   "cell_type": "code",
   "execution_count": 29,
   "id": "fa2bb104",
   "metadata": {},
   "outputs": [],
   "source": [
    "# generamos la consulta en el cursor sobre la tabla train_cupid\n",
    "cursor.execute(\"SELECT * FROM train_cupid;\")\n",
    "tabla_train = cursor.fetchall()\n",
    "\n",
    "# Posteriormente transformamos la consulta en una lista antes de ingresarla como un pd.DataFrame\n",
    "df_train = pd.DataFrame(list(tabla_train))\n",
    "\n",
    "#Agregamos el nombre de las columnas\n",
    "df_train.columns = lista_nombre_columnas"
   ]
  },
  {
   "cell_type": "code",
   "execution_count": 30,
   "id": "ed68fc45",
   "metadata": {},
   "outputs": [],
   "source": [
    "#Cerramos sesión por seguridad\n",
    "conector.close()"
   ]
  },
  {
   "cell_type": "code",
   "execution_count": 31,
   "id": "a63845cd",
   "metadata": {
    "scrolled": false
   },
   "outputs": [
    {
     "data": {
      "text/html": [
       "<div>\n",
       "<style scoped>\n",
       "    .dataframe tbody tr th:only-of-type {\n",
       "        vertical-align: middle;\n",
       "    }\n",
       "\n",
       "    .dataframe tbody tr th {\n",
       "        vertical-align: top;\n",
       "    }\n",
       "\n",
       "    .dataframe thead th {\n",
       "        text-align: right;\n",
       "    }\n",
       "</style>\n",
       "<table border=\"1\" class=\"dataframe\">\n",
       "  <thead>\n",
       "    <tr style=\"text-align: right;\">\n",
       "      <th></th>\n",
       "      <th>age</th>\n",
       "      <th>height</th>\n",
       "      <th>virgo</th>\n",
       "      <th>taurus</th>\n",
       "      <th>scorpio</th>\n",
       "      <th>pisces</th>\n",
       "      <th>libra</th>\n",
       "      <th>leo</th>\n",
       "      <th>gemini</th>\n",
       "      <th>aries</th>\n",
       "      <th>...</th>\n",
       "      <th>orientation_straight</th>\n",
       "      <th>sex_m</th>\n",
       "      <th>smokes_sometimes</th>\n",
       "      <th>smokes_trying_to_quit</th>\n",
       "      <th>smokes_when_drinking</th>\n",
       "      <th>smokes_yes</th>\n",
       "      <th>body_type_overweight</th>\n",
       "      <th>body_type_regular</th>\n",
       "      <th>education_high_school</th>\n",
       "      <th>education_undergrad_university</th>\n",
       "    </tr>\n",
       "  </thead>\n",
       "  <tbody>\n",
       "    <tr>\n",
       "      <th>0</th>\n",
       "      <td>35</td>\n",
       "      <td>70.0</td>\n",
       "      <td>0</td>\n",
       "      <td>0</td>\n",
       "      <td>0</td>\n",
       "      <td>0</td>\n",
       "      <td>0</td>\n",
       "      <td>0</td>\n",
       "      <td>0</td>\n",
       "      <td>0</td>\n",
       "      <td>...</td>\n",
       "      <td>1</td>\n",
       "      <td>1</td>\n",
       "      <td>0</td>\n",
       "      <td>0</td>\n",
       "      <td>0</td>\n",
       "      <td>0</td>\n",
       "      <td>0</td>\n",
       "      <td>1</td>\n",
       "      <td>0</td>\n",
       "      <td>0</td>\n",
       "    </tr>\n",
       "    <tr>\n",
       "      <th>1</th>\n",
       "      <td>38</td>\n",
       "      <td>68.0</td>\n",
       "      <td>0</td>\n",
       "      <td>0</td>\n",
       "      <td>0</td>\n",
       "      <td>0</td>\n",
       "      <td>0</td>\n",
       "      <td>0</td>\n",
       "      <td>0</td>\n",
       "      <td>0</td>\n",
       "      <td>...</td>\n",
       "      <td>1</td>\n",
       "      <td>1</td>\n",
       "      <td>0</td>\n",
       "      <td>0</td>\n",
       "      <td>0</td>\n",
       "      <td>0</td>\n",
       "      <td>0</td>\n",
       "      <td>1</td>\n",
       "      <td>0</td>\n",
       "      <td>0</td>\n",
       "    </tr>\n",
       "  </tbody>\n",
       "</table>\n",
       "<p>2 rows × 98 columns</p>\n",
       "</div>"
      ],
      "text/plain": [
       "   age  height  virgo  taurus  scorpio  pisces  libra  leo  gemini  aries  \\\n",
       "0   35    70.0      0       0        0       0      0    0       0      0   \n",
       "1   38    68.0      0       0        0       0      0    0       0      0   \n",
       "\n",
       "   ...  orientation_straight  sex_m  smokes_sometimes  smokes_trying_to_quit  \\\n",
       "0  ...                     1      1                 0                      0   \n",
       "1  ...                     1      1                 0                      0   \n",
       "\n",
       "   smokes_when_drinking  smokes_yes  body_type_overweight  body_type_regular  \\\n",
       "0                     0           0                     0                  1   \n",
       "1                     0           0                     0                  1   \n",
       "\n",
       "   education_high_school  education_undergrad_university  \n",
       "0                      0                               0  \n",
       "1                      0                               0  \n",
       "\n",
       "[2 rows x 98 columns]"
      ]
     },
     "execution_count": 31,
     "metadata": {},
     "output_type": "execute_result"
    }
   ],
   "source": [
    "#Observamos los cambios realizados\n",
    "df_train.head(2)"
   ]
  },
  {
   "cell_type": "code",
   "execution_count": 32,
   "id": "f9968fee",
   "metadata": {
    "scrolled": true
   },
   "outputs": [
    {
     "name": "stdout",
     "output_type": "stream",
     "text": [
      "<class 'pandas.core.frame.DataFrame'>\n",
      "RangeIndex: 20081 entries, 0 to 20080\n",
      "Data columns (total 98 columns):\n",
      " #   Column                          Non-Null Count  Dtype  \n",
      "---  ------                          --------------  -----  \n",
      " 0   age                             20081 non-null  int64  \n",
      " 1   height                          20081 non-null  float64\n",
      " 2   virgo                           20081 non-null  int64  \n",
      " 3   taurus                          20081 non-null  int64  \n",
      " 4   scorpio                         20081 non-null  int64  \n",
      " 5   pisces                          20081 non-null  int64  \n",
      " 6   libra                           20081 non-null  int64  \n",
      " 7   leo                             20081 non-null  int64  \n",
      " 8   gemini                          20081 non-null  int64  \n",
      " 9   aries                           20081 non-null  int64  \n",
      " 10  aquarius                        20081 non-null  int64  \n",
      " 11  cancer                          20081 non-null  int64  \n",
      " 12  sagittarius                     20081 non-null  int64  \n",
      " 13  asian                           20081 non-null  int64  \n",
      " 14  hispanic_latin                  20081 non-null  int64  \n",
      " 15  black                           20081 non-null  int64  \n",
      " 16  indian                          20081 non-null  int64  \n",
      " 17  pacific_islander                20081 non-null  int64  \n",
      " 18  native_american                 20081 non-null  int64  \n",
      " 19  middle_eastern                  20081 non-null  int64  \n",
      " 20  colorado                        20081 non-null  int64  \n",
      " 21  new_york                        20081 non-null  int64  \n",
      " 22  oregon                          20081 non-null  int64  \n",
      " 23  arizona                         20081 non-null  int64  \n",
      " 24  hawaii                          20081 non-null  int64  \n",
      " 25  montana                         20081 non-null  int64  \n",
      " 26  wisconsin                       20081 non-null  int64  \n",
      " 27  virginia                        20081 non-null  int64  \n",
      " 28  spain                           20081 non-null  int64  \n",
      " 29  nevada                          20081 non-null  int64  \n",
      " 30  illinois                        20081 non-null  int64  \n",
      " 31  vietnam                         20081 non-null  int64  \n",
      " 32  ireland                         20081 non-null  int64  \n",
      " 33  louisiana                       20081 non-null  int64  \n",
      " 34  michigan                        20081 non-null  int64  \n",
      " 35  texas                           20081 non-null  int64  \n",
      " 36  united_kingdom                  20081 non-null  int64  \n",
      " 37  massachusetts                   20081 non-null  int64  \n",
      " 38  north_carolina                  20081 non-null  int64  \n",
      " 39  idaho                           20081 non-null  int64  \n",
      " 40  mississippi                     20081 non-null  int64  \n",
      " 41  new_jersey                      20081 non-null  int64  \n",
      " 42  florida                         20081 non-null  int64  \n",
      " 43  minnesota                       20081 non-null  int64  \n",
      " 44  georgia                         20081 non-null  int64  \n",
      " 45  utah                            20081 non-null  int64  \n",
      " 46  washington                      20081 non-null  int64  \n",
      " 47  west_virginia                   20081 non-null  int64  \n",
      " 48  connecticut                     20081 non-null  int64  \n",
      " 49  tennessee                       20081 non-null  int64  \n",
      " 50  rhode_island                    20081 non-null  int64  \n",
      " 51  district_of_columbia            20081 non-null  int64  \n",
      " 52  canada                          20081 non-null  int64  \n",
      " 53  missouri                        20081 non-null  int64  \n",
      " 54  germany                         20081 non-null  int64  \n",
      " 55  pennsylvania                    20081 non-null  int64  \n",
      " 56  netherlands                     20081 non-null  int64  \n",
      " 57  switzerland                     20081 non-null  int64  \n",
      " 58  mexico                          20081 non-null  int64  \n",
      " 59  ohio                            20081 non-null  int64  \n",
      " 60  agnosticism                     20081 non-null  int64  \n",
      " 61  atheism                         20081 non-null  int64  \n",
      " 62  catholicism                     20081 non-null  int64  \n",
      " 63  buddhism                        20081 non-null  int64  \n",
      " 64  judaism                         20081 non-null  int64  \n",
      " 65  hinduism                        20081 non-null  int64  \n",
      " 66  islam                           20081 non-null  int64  \n",
      " 67  pro_dogs                        20081 non-null  float64\n",
      " 68  pro_cats                        20081 non-null  float64\n",
      " 69  spanish                         20081 non-null  int64  \n",
      " 70  chinese                         20081 non-null  int64  \n",
      " 71  french                          20081 non-null  int64  \n",
      " 72  german                          20081 non-null  int64  \n",
      " 73  single                          20081 non-null  int64  \n",
      " 74  seeing_someone                  20081 non-null  int64  \n",
      " 75  available                       20081 non-null  int64  \n",
      " 76  employed                        20081 non-null  int64  \n",
      " 77  income_between_25_50            20081 non-null  int64  \n",
      " 78  income_between_50_75            20081 non-null  int64  \n",
      " 79  income_over_75                  20081 non-null  int64  \n",
      " 80  drugs_often                     20081 non-null  int64  \n",
      " 81  drugs_sometimes                 20081 non-null  int64  \n",
      " 82  drinks_not_at_all               20081 non-null  int64  \n",
      " 83  drinks_often                    20081 non-null  int64  \n",
      " 84  drinks_rarely                   20081 non-null  int64  \n",
      " 85  drinks_socially                 20081 non-null  int64  \n",
      " 86  drinks_very_often               20081 non-null  int64  \n",
      " 87  orientation_gay                 20081 non-null  int64  \n",
      " 88  orientation_straight            20081 non-null  int64  \n",
      " 89  sex_m                           20081 non-null  int64  \n",
      " 90  smokes_sometimes                20081 non-null  int64  \n",
      " 91  smokes_trying_to_quit           20081 non-null  int64  \n",
      " 92  smokes_when_drinking            20081 non-null  int64  \n",
      " 93  smokes_yes                      20081 non-null  int64  \n",
      " 94  body_type_overweight            20081 non-null  int64  \n",
      " 95  body_type_regular               20081 non-null  int64  \n",
      " 96  education_high_school           20081 non-null  int64  \n",
      " 97  education_undergrad_university  20081 non-null  int64  \n",
      "dtypes: float64(3), int64(95)\n",
      "memory usage: 15.0 MB\n"
     ]
    }
   ],
   "source": [
    "#Revisamos la información de la tabla creada\n",
    "df_train.info()"
   ]
  },
  {
   "cell_type": "markdown",
   "id": "c341069f",
   "metadata": {},
   "source": [
    "* <span style=\"color:brown\"> Se observa que los datos tanto como el nombre, el tipo de dato y el número de datos se colocaron adecuadamente."
   ]
  },
  {
   "cell_type": "code",
   "execution_count": 33,
   "id": "b52c45ba",
   "metadata": {},
   "outputs": [
    {
     "data": {
      "text/plain": [
       "<AxesSubplot:>"
      ]
     },
     "execution_count": 33,
     "metadata": {},
     "output_type": "execute_result"
    },
    {
     "data": {
      "image/png": "[encoded data removed]",
      "text/plain": [
       "<Figure size 2500x1000 with 2 Axes>"
      ]
     },
     "metadata": {},
     "output_type": "display_data"
    }
   ],
   "source": [
    "#Revisamos que no existan datos nulos\n",
    "missingno.matrix(df_train)"
   ]
  },
  {
   "cell_type": "markdown",
   "id": "3d393521",
   "metadata": {},
   "source": [
    "* <span style=\"color:brown\"> No se observan datos nulos."
   ]
  },
  {
   "cell_type": "markdown",
   "id": "297cf0e6",
   "metadata": {},
   "source": [
    "* ### Existen tres vectores objetivos a evaluar: <span style='background:gainsboro'><font color='dimgray'>single</font></span>, <span style='background:gainsboro'><font color='dimgray'>seeing_someone</font></span> y <span style='background:gainsboro'><font color='dimgray'>available</font></span>."
   ]
  },
  {
   "cell_type": "code",
   "execution_count": 34,
   "id": "dc7a8735",
   "metadata": {},
   "outputs": [],
   "source": [
    "#Creamos una lista con los vectores objetivos señalados.\n",
    "vectores_objetivos = ['single', 'seeing_someone', 'available']"
   ]
  },
  {
   "cell_type": "markdown",
   "id": "16bbb669",
   "metadata": {},
   "source": [
    "* ### Entrenar los siguientes modelos (sin necesidad de ajustar por hiper parámetros):\n",
    "    * <span style='background:gainsboro'><font color='dimgray'>GradientBoostingClassifier</font></span>, <span style='background:gainsboro'><font color='dimgray'>AdaBoostClassifer</font></span>, <span style='background:gainsboro'><font color='dimgray'>RandomForestClassifier</font></span>, <span style='background:gainsboro'><font color='dimgray'>SVC</font></span>, <span style='background:gainsboro'><font color='dimgray'>DecisionTreeClassifier</font></span>, <span style='background:gainsboro'><font color='dimgray'>LogisticRegression</font></span>, <span style='background:gainsboro'><font color='dimgray'>BernoulliNB</font></span>."
   ]
  },
  {
   "cell_type": "code",
   "execution_count": 35,
   "id": "93af456d",
   "metadata": {},
   "outputs": [],
   "source": [
    "#Creamos un diccionario con los modelos\n",
    "modelos = {\n",
    "    'GradientBoostingClassifier': GradientBoostingClassifier(),\n",
    "    'AdaBoostClassifier': AdaBoostClassifier(),\n",
    "    'RandomForestClassifier': RandomForestClassifier(),\n",
    "    'SVC': SVC(),\n",
    "    'DecisionTreeClassifier': DecisionTreeClassifier(),\n",
    "    'LogisticRegression': LogisticRegression(),\n",
    "    'BernoulliNB': BernoulliNB()\n",
    "}"
   ]
  },
  {
   "cell_type": "markdown",
   "id": "46378bd3",
   "metadata": {},
   "source": [
    "* ### Serializar el objeto y preservarlo por cada combinación de modelo entrenado y vector objetivo"
   ]
  },
  {
   "cell_type": "code",
   "execution_count": 36,
   "id": "2dd81e94",
   "metadata": {},
   "outputs": [],
   "source": [
    "#Creamos el X_train\n",
    "X_train= df_train.drop(columns = vectores_objetivos, axis=1)"
   ]
  },
  {
   "cell_type": "markdown",
   "id": "bf1a919d",
   "metadata": {},
   "source": [
    "#### <span style=\"color:red\">EN CASO DE EXISTIR ARCHIVOS '.plk' CREADOS CON ANTERIORIDAD, POR FAVOR descomentar el siguiente chang, si no continue con con los demás"
   ]
  },
  {
   "attachments": {
    "image-2.png": {
     "image/png": "[encoded data removed]"
    }
   },
   "cell_type": "markdown",
   "id": "b45e8ec2",
   "metadata": {},
   "source": [
    "![image-2.png](attachment:image-2.png)"
   ]
  },
  {
   "cell_type": "code",
   "execution_count": 37,
   "id": "918f7216",
   "metadata": {},
   "outputs": [],
   "source": [
    "# #En caso de tener datos anteriores con .plk, lo eliminamos\n",
    "# from os import remove\n",
    "# for vector in vectores_objetivos:\n",
    "#     for modelo in modelos:\n",
    "#         remove(f\"{vector}_{modelo}_BP.plk\")"
   ]
  },
  {
   "cell_type": "code",
   "execution_count": 38,
   "id": "279ed3bb",
   "metadata": {},
   "outputs": [],
   "source": [
    "#Recorremos los vectores objetivos con los modelos y guardamos\n",
    "for vector in vectores_objetivos:\n",
    "    \n",
    "    #Recorremos los modelos del diccionario\n",
    "    for modelo in modelos:\n",
    "        modelo_temporal = modelos[modelo].fit(X_train, df_train[vector])\n",
    "        \n",
    "        #Serealizamos, guardamos por separado cada modelo y guardamos con iniciales (BP de Bárbara Pérez)\n",
    "        nombre_archivo = f\"{vector}_{modelo}_BP.plk\"\n",
    "        pickle.dump(modelo_temporal, open (nombre_archivo,'wb'))"
   ]
  },
  {
   "cell_type": "code",
   "execution_count": 39,
   "id": "5d4be8d1",
   "metadata": {
    "scrolled": false
   },
   "outputs": [
    {
     "name": "stdout",
     "output_type": "stream",
     "text": [
      "available_AdaBoostClassifier_BP.plk\n",
      "available_BernoulliNB_BP.plk\n",
      "available_DecisionTreeClassifier_BP.plk\n",
      "available_GradientBoostingClassifier_BP.plk\n",
      "available_LogisticRegression_BP.plk\n",
      "available_RandomForestClassifier_BP.plk\n",
      "available_SVC_BP.plk\n",
      "seeing_someone_AdaBoostClassifier_BP.plk\n",
      "seeing_someone_BernoulliNB_BP.plk\n",
      "seeing_someone_DecisionTreeClassifier_BP.plk\n",
      "seeing_someone_GradientBoostingClassifier_BP.plk\n",
      "seeing_someone_LogisticRegression_BP.plk\n",
      "seeing_someone_RandomForestClassifier_BP.plk\n",
      "seeing_someone_SVC_BP.plk\n",
      "single_AdaBoostClassifier_BP.plk\n",
      "single_BernoulliNB_BP.plk\n",
      "single_DecisionTreeClassifier_BP.plk\n",
      "single_GradientBoostingClassifier_BP.plk\n",
      "single_LogisticRegression_BP.plk\n",
      "single_RandomForestClassifier_BP.plk\n",
      "single_SVC_BP.plk\n"
     ]
    }
   ],
   "source": [
    "#Revisamos los archivos\n",
    "!ls *.plk"
   ]
  },
  {
   "cell_type": "markdown",
   "id": "4d95e8c3",
   "metadata": {},
   "source": [
    "* <span style=\"color:brown\"> Se crearon los archivos solicitados"
   ]
  },
  {
   "cell_type": "markdown",
   "id": "704e0366",
   "metadata": {},
   "source": [
    "_____________________"
   ]
  },
  {
   "cell_type": "markdown",
   "id": "32b51790",
   "metadata": {},
   "source": [
    "## <font color='dimgray'>Parte 3: Exportación de predicciones (3.5 Puntos)</font>"
   ]
  },
  {
   "cell_type": "markdown",
   "id": "c6f998ad",
   "metadata": {},
   "source": [
    "* Ingestar la tabla de testing **mediante** <span style='background:gainsboro'><font color='dimgray'>psycopg2</font></span> para la posterior predicción del modelo.\n",
    "* **En base a los objetos serializados**, predecir y evaluar cuatro queries específicas:\n",
    "    * **Query 1**: 'atheism', 'asian', 'employed', 'pro_dogs', 'chinese'.\n",
    "    * **Query 2**: 'income_over_75', 'french', 'german','orientation_straight', 'new york'.\n",
    "    * **Query 3**: 'education_undergrad_university', 'body_type_regular', 'pro_dogs', 'employed'.\n",
    "    * **Query 4**: 'taurus', 'indian', 'washington', 'income_between_50_75', 'hinduism'.\n",
    "* Cada una de estas queries específicas debe ser registrada en la base de datos.\n",
    "* La base de datos creada debe contener las tablas:\n",
    "    * 2 que representan a training y testing.\n",
    "    * 84 que representan a cada una de las combinaciones entre modelo, vector y query específica.\n",
    "* A modo de referencia, la base de datos creada debe contener 86 tablas en total.\n",
    " \n"
   ]
  },
  {
   "cell_type": "markdown",
   "id": "e846c149",
   "metadata": {},
   "source": [
    "_______"
   ]
  },
  {
   "cell_type": "markdown",
   "id": "ef852586",
   "metadata": {},
   "source": [
    "* ### *Ingestar la tabla de testing **mediante** <span style='background:gainsboro'><font color='dimgray'>psycopg2</font></span> para la posterior predicción del modelo.*\n"
   ]
  },
  {
   "cell_type": "code",
   "execution_count": 40,
   "id": "224bf8d5",
   "metadata": {},
   "outputs": [],
   "source": [
    "#Iniciamos seción con psycopg2\n",
    "#llamamos al cursor y conector\n",
    "conector, cursor = conector_y_cursor()"
   ]
  },
  {
   "cell_type": "code",
   "execution_count": 41,
   "id": "2387372b",
   "metadata": {},
   "outputs": [],
   "source": [
    "# generamos la consulta en el cursor sobre la tabla test_cupid\n",
    "cursor.execute(\"SELECT * FROM test_cupid;\")\n",
    "tabla_test = cursor.fetchall()\n",
    "\n",
    "# Posteriormente transformamos la consulta en una lista antes de ingresarla como un pd.DataFrame\n",
    "df_test = pd.DataFrame(list(tabla_test))\n",
    "\n",
    "#Agregamos el nombre de las columnas\n",
    "df_test.columns = lista_nombre_columnas"
   ]
  },
  {
   "cell_type": "code",
   "execution_count": 42,
   "id": "2d339e14",
   "metadata": {},
   "outputs": [],
   "source": [
    "#Cerramos sesión\n",
    "conector.close()"
   ]
  },
  {
   "cell_type": "code",
   "execution_count": 43,
   "id": "13ad9e3d",
   "metadata": {
    "scrolled": true
   },
   "outputs": [
    {
     "data": {
      "text/html": [
       "<div>\n",
       "<style scoped>\n",
       "    .dataframe tbody tr th:only-of-type {\n",
       "        vertical-align: middle;\n",
       "    }\n",
       "\n",
       "    .dataframe tbody tr th {\n",
       "        vertical-align: top;\n",
       "    }\n",
       "\n",
       "    .dataframe thead th {\n",
       "        text-align: right;\n",
       "    }\n",
       "</style>\n",
       "<table border=\"1\" class=\"dataframe\">\n",
       "  <thead>\n",
       "    <tr style=\"text-align: right;\">\n",
       "      <th></th>\n",
       "      <th>age</th>\n",
       "      <th>height</th>\n",
       "      <th>virgo</th>\n",
       "      <th>taurus</th>\n",
       "      <th>scorpio</th>\n",
       "      <th>pisces</th>\n",
       "      <th>libra</th>\n",
       "      <th>leo</th>\n",
       "      <th>gemini</th>\n",
       "      <th>aries</th>\n",
       "      <th>...</th>\n",
       "      <th>orientation_straight</th>\n",
       "      <th>sex_m</th>\n",
       "      <th>smokes_sometimes</th>\n",
       "      <th>smokes_trying_to_quit</th>\n",
       "      <th>smokes_when_drinking</th>\n",
       "      <th>smokes_yes</th>\n",
       "      <th>body_type_overweight</th>\n",
       "      <th>body_type_regular</th>\n",
       "      <th>education_high_school</th>\n",
       "      <th>education_undergrad_university</th>\n",
       "    </tr>\n",
       "  </thead>\n",
       "  <tbody>\n",
       "    <tr>\n",
       "      <th>0</th>\n",
       "      <td>35</td>\n",
       "      <td>70.0</td>\n",
       "      <td>0</td>\n",
       "      <td>0</td>\n",
       "      <td>0</td>\n",
       "      <td>0</td>\n",
       "      <td>0</td>\n",
       "      <td>0</td>\n",
       "      <td>0</td>\n",
       "      <td>0</td>\n",
       "      <td>...</td>\n",
       "      <td>1</td>\n",
       "      <td>1</td>\n",
       "      <td>0</td>\n",
       "      <td>0</td>\n",
       "      <td>0</td>\n",
       "      <td>0</td>\n",
       "      <td>0</td>\n",
       "      <td>1</td>\n",
       "      <td>0</td>\n",
       "      <td>0</td>\n",
       "    </tr>\n",
       "    <tr>\n",
       "      <th>1</th>\n",
       "      <td>38</td>\n",
       "      <td>68.0</td>\n",
       "      <td>0</td>\n",
       "      <td>0</td>\n",
       "      <td>0</td>\n",
       "      <td>0</td>\n",
       "      <td>0</td>\n",
       "      <td>0</td>\n",
       "      <td>0</td>\n",
       "      <td>0</td>\n",
       "      <td>...</td>\n",
       "      <td>1</td>\n",
       "      <td>1</td>\n",
       "      <td>0</td>\n",
       "      <td>0</td>\n",
       "      <td>0</td>\n",
       "      <td>0</td>\n",
       "      <td>0</td>\n",
       "      <td>1</td>\n",
       "      <td>0</td>\n",
       "      <td>0</td>\n",
       "    </tr>\n",
       "  </tbody>\n",
       "</table>\n",
       "<p>2 rows × 98 columns</p>\n",
       "</div>"
      ],
      "text/plain": [
       "   age  height  virgo  taurus  scorpio  pisces  libra  leo  gemini  aries  \\\n",
       "0   35    70.0      0       0        0       0      0    0       0      0   \n",
       "1   38    68.0      0       0        0       0      0    0       0      0   \n",
       "\n",
       "   ...  orientation_straight  sex_m  smokes_sometimes  smokes_trying_to_quit  \\\n",
       "0  ...                     1      1                 0                      0   \n",
       "1  ...                     1      1                 0                      0   \n",
       "\n",
       "   smokes_when_drinking  smokes_yes  body_type_overweight  body_type_regular  \\\n",
       "0                     0           0                     0                  1   \n",
       "1                     0           0                     0                  1   \n",
       "\n",
       "   education_high_school  education_undergrad_university  \n",
       "0                      0                               0  \n",
       "1                      0                               0  \n",
       "\n",
       "[2 rows x 98 columns]"
      ]
     },
     "execution_count": 43,
     "metadata": {},
     "output_type": "execute_result"
    }
   ],
   "source": [
    "#Observamos los cambios realizados\n",
    "df_train.head(2)"
   ]
  },
  {
   "cell_type": "markdown",
   "id": "128e32af",
   "metadata": {},
   "source": [
    "* <span style=\"color:brown\"> Se observa que se realizó bien la carga de datos para el DataFrame creado"
   ]
  },
  {
   "cell_type": "code",
   "execution_count": 44,
   "id": "c3b9b1d0",
   "metadata": {
    "scrolled": false
   },
   "outputs": [
    {
     "name": "stdout",
     "output_type": "stream",
     "text": [
      "<class 'pandas.core.frame.DataFrame'>\n",
      "RangeIndex: 20081 entries, 0 to 20080\n",
      "Data columns (total 98 columns):\n",
      " #   Column                          Non-Null Count  Dtype  \n",
      "---  ------                          --------------  -----  \n",
      " 0   age                             20081 non-null  int64  \n",
      " 1   height                          20081 non-null  float64\n",
      " 2   virgo                           20081 non-null  int64  \n",
      " 3   taurus                          20081 non-null  int64  \n",
      " 4   scorpio                         20081 non-null  int64  \n",
      " 5   pisces                          20081 non-null  int64  \n",
      " 6   libra                           20081 non-null  int64  \n",
      " 7   leo                             20081 non-null  int64  \n",
      " 8   gemini                          20081 non-null  int64  \n",
      " 9   aries                           20081 non-null  int64  \n",
      " 10  aquarius                        20081 non-null  int64  \n",
      " 11  cancer                          20081 non-null  int64  \n",
      " 12  sagittarius                     20081 non-null  int64  \n",
      " 13  asian                           20081 non-null  int64  \n",
      " 14  hispanic_latin                  20081 non-null  int64  \n",
      " 15  black                           20081 non-null  int64  \n",
      " 16  indian                          20081 non-null  int64  \n",
      " 17  pacific_islander                20081 non-null  int64  \n",
      " 18  native_american                 20081 non-null  int64  \n",
      " 19  middle_eastern                  20081 non-null  int64  \n",
      " 20  colorado                        20081 non-null  int64  \n",
      " 21  new_york                        20081 non-null  int64  \n",
      " 22  oregon                          20081 non-null  int64  \n",
      " 23  arizona                         20081 non-null  int64  \n",
      " 24  hawaii                          20081 non-null  int64  \n",
      " 25  montana                         20081 non-null  int64  \n",
      " 26  wisconsin                       20081 non-null  int64  \n",
      " 27  virginia                        20081 non-null  int64  \n",
      " 28  spain                           20081 non-null  int64  \n",
      " 29  nevada                          20081 non-null  int64  \n",
      " 30  illinois                        20081 non-null  int64  \n",
      " 31  vietnam                         20081 non-null  int64  \n",
      " 32  ireland                         20081 non-null  int64  \n",
      " 33  louisiana                       20081 non-null  int64  \n",
      " 34  michigan                        20081 non-null  int64  \n",
      " 35  texas                           20081 non-null  int64  \n",
      " 36  united_kingdom                  20081 non-null  int64  \n",
      " 37  massachusetts                   20081 non-null  int64  \n",
      " 38  north_carolina                  20081 non-null  int64  \n",
      " 39  idaho                           20081 non-null  int64  \n",
      " 40  mississippi                     20081 non-null  int64  \n",
      " 41  new_jersey                      20081 non-null  int64  \n",
      " 42  florida                         20081 non-null  int64  \n",
      " 43  minnesota                       20081 non-null  int64  \n",
      " 44  georgia                         20081 non-null  int64  \n",
      " 45  utah                            20081 non-null  int64  \n",
      " 46  washington                      20081 non-null  int64  \n",
      " 47  west_virginia                   20081 non-null  int64  \n",
      " 48  connecticut                     20081 non-null  int64  \n",
      " 49  tennessee                       20081 non-null  int64  \n",
      " 50  rhode_island                    20081 non-null  int64  \n",
      " 51  district_of_columbia            20081 non-null  int64  \n",
      " 52  canada                          20081 non-null  int64  \n",
      " 53  missouri                        20081 non-null  int64  \n",
      " 54  germany                         20081 non-null  int64  \n",
      " 55  pennsylvania                    20081 non-null  int64  \n",
      " 56  netherlands                     20081 non-null  int64  \n",
      " 57  switzerland                     20081 non-null  int64  \n",
      " 58  mexico                          20081 non-null  int64  \n",
      " 59  ohio                            20081 non-null  int64  \n",
      " 60  agnosticism                     20081 non-null  int64  \n",
      " 61  atheism                         20081 non-null  int64  \n",
      " 62  catholicism                     20081 non-null  int64  \n",
      " 63  buddhism                        20081 non-null  int64  \n",
      " 64  judaism                         20081 non-null  int64  \n",
      " 65  hinduism                        20081 non-null  int64  \n",
      " 66  islam                           20081 non-null  int64  \n",
      " 67  pro_dogs                        20081 non-null  float64\n",
      " 68  pro_cats                        20081 non-null  float64\n",
      " 69  spanish                         20081 non-null  int64  \n",
      " 70  chinese                         20081 non-null  int64  \n",
      " 71  french                          20081 non-null  int64  \n",
      " 72  german                          20081 non-null  int64  \n",
      " 73  single                          20081 non-null  int64  \n",
      " 74  seeing_someone                  20081 non-null  int64  \n",
      " 75  available                       20081 non-null  int64  \n",
      " 76  employed                        20081 non-null  int64  \n",
      " 77  income_between_25_50            20081 non-null  int64  \n",
      " 78  income_between_50_75            20081 non-null  int64  \n",
      " 79  income_over_75                  20081 non-null  int64  \n",
      " 80  drugs_often                     20081 non-null  int64  \n",
      " 81  drugs_sometimes                 20081 non-null  int64  \n",
      " 82  drinks_not_at_all               20081 non-null  int64  \n",
      " 83  drinks_often                    20081 non-null  int64  \n",
      " 84  drinks_rarely                   20081 non-null  int64  \n",
      " 85  drinks_socially                 20081 non-null  int64  \n",
      " 86  drinks_very_often               20081 non-null  int64  \n",
      " 87  orientation_gay                 20081 non-null  int64  \n",
      " 88  orientation_straight            20081 non-null  int64  \n",
      " 89  sex_m                           20081 non-null  int64  \n",
      " 90  smokes_sometimes                20081 non-null  int64  \n",
      " 91  smokes_trying_to_quit           20081 non-null  int64  \n",
      " 92  smokes_when_drinking            20081 non-null  int64  \n",
      " 93  smokes_yes                      20081 non-null  int64  \n",
      " 94  body_type_overweight            20081 non-null  int64  \n",
      " 95  body_type_regular               20081 non-null  int64  \n",
      " 96  education_high_school           20081 non-null  int64  \n",
      " 97  education_undergrad_university  20081 non-null  int64  \n",
      "dtypes: float64(3), int64(95)\n",
      "memory usage: 15.0 MB\n"
     ]
    }
   ],
   "source": [
    "#Observamos la información del DataFrame creado\n",
    "df_train.info()"
   ]
  },
  {
   "cell_type": "markdown",
   "id": "c8c9ed7b",
   "metadata": {},
   "source": [
    "* <span style=\"color:brown\"> Se observa que los datos tanto como el nombre, el tipo de dato y el número de datos se colocaron adecuadamente."
   ]
  },
  {
   "cell_type": "code",
   "execution_count": 45,
   "id": "73a36c0a",
   "metadata": {},
   "outputs": [
    {
     "data": {
      "text/plain": [
       "<AxesSubplot:>"
      ]
     },
     "execution_count": 45,
     "metadata": {},
     "output_type": "execute_result"
    },
    {
     "data": {
      "image/png": "[encoded data removed]",
      "text/plain": [
       "<Figure size 2500x1000 with 2 Axes>"
      ]
     },
     "metadata": {},
     "output_type": "display_data"
    }
   ],
   "source": [
    "#Revisamos que no existan datos nulos\n",
    "missingno.matrix(df_test)"
   ]
  },
  {
   "cell_type": "markdown",
   "id": "d5086bb1",
   "metadata": {},
   "source": [
    "* <span style=\"color:brown\"> No se observan datos nulos."
   ]
  },
  {
   "cell_type": "markdown",
   "id": "d88c2b62",
   "metadata": {},
   "source": [
    "* ### **En base a los objetos serializados**, predecir y evaluar cuatro queries específicas:\n",
    "    * Cada una de estas queries específicas debe ser registrada en la base de datos.\n"
   ]
  },
  {
   "cell_type": "code",
   "execution_count": 46,
   "id": "2a159fa1",
   "metadata": {},
   "outputs": [],
   "source": [
    "#Creamos las querys solicitadas en un diccionario\n",
    "\n",
    "queries={\n",
    "    'query_1': ['atheism', 'asian', 'employed', 'pro_dogs', 'chinese'],\n",
    "    'query_2': ['income_over_75', 'french', 'german','orientation_straight', 'new_york'],\n",
    "    'query_3': ['education_undergrad_university', 'body_type_regular', 'pro_dogs', 'employed'],\n",
    "    'query_4': ['taurus', 'indian', 'washington', 'income_between_50_75', 'hinduism']\n",
    "    \n",
    "}"
   ]
  },
  {
   "cell_type": "code",
   "execution_count": 47,
   "id": "13549310",
   "metadata": {},
   "outputs": [],
   "source": [
    "#Creamos el X_train\n",
    "X_test= df_test.drop(columns = vectores_objetivos, axis=1)"
   ]
  },
  {
   "cell_type": "code",
   "execution_count": 48,
   "id": "8d59826a",
   "metadata": {},
   "outputs": [],
   "source": [
    "# from sqlalchemy import create_engine\n",
    "from sqlalchemy import create_engine\n",
    "\n",
    "engine = create_engine(f\"postgresql://{USERNAME}:{PASSWORD}@{HOST}/{DATABASE}\", echo=False)"
   ]
  },
  {
   "cell_type": "code",
   "execution_count": 49,
   "id": "c752d415",
   "metadata": {},
   "outputs": [],
   "source": [
    "#Recorremos los vectores objetivos con los modelos y guardamos\n",
    "for vector in vectores_objetivos:\n",
    "    \n",
    "    #Recorremos los modelos del diccionario y abrimos los archivos creados\n",
    "    for modelo in modelos:\n",
    "        modelo_temporal = pickle.load(open(f\"{vector}_{modelo}_BP.plk\",\"rb\"))\n",
    "        \n",
    "        #Recorremos el diccionario con las queries solicitadas\n",
    "        for query in queries:\n",
    "        \n",
    "            df_temporal = helpers.create_crosstab(f\"{vector}_{modelo}_BP.plk\", X_test, df_test[vector], queries[query])\n",
    "            \n",
    "            #Serealizamos, guardamos por separado cada modelo y guardamos con iniciales (BP de Bárbara Pérez)\n",
    "            nombre_tabla = f\"{query}_{vector}_{modelo}_BP\"\n",
    "            \n",
    "##             pickle.dump(modelo_temporal, open (nombre_archivo,'wb'))\n",
    "            df_temporal.to_sql(nombre_tabla, con=engine, schema=None, if_exists='replace', index=True, index_label=None, chunksize=None, dtype=None, method=None)"
   ]
  },
  {
   "cell_type": "code",
   "execution_count": 50,
   "id": "fb4e8bbd",
   "metadata": {
    "scrolled": true
   },
   "outputs": [],
   "source": [
    "# #Iniciamos seción con psycopg2\n",
    "# #llamamos al cursor y conector\n",
    "conector, cursor = conector_y_cursor()\n"
   ]
  },
  {
   "cell_type": "code",
   "execution_count": 51,
   "id": "1336a8d8",
   "metadata": {},
   "outputs": [
    {
     "name": "stdout",
     "output_type": "stream",
     "text": [
      "Los numeros de tablas existentes son: 86\n"
     ]
    }
   ],
   "source": [
    "cursor.execute(\"SELECT table_name, table_schema FROM information_schema.tables WHERE table_schema = 'public' ORDER BY table_name;\")\n",
    "n_tablas = cursor.fetchall()\n",
    "print(f\"Los numeros de tablas existentes son: {len(n_tablas)}\")\n"
   ]
  },
  {
   "cell_type": "markdown",
   "id": "05433a9f",
   "metadata": {},
   "source": [
    "* <span style=\"color:brown\"> Se realizan 86 tablas, tal como se solicita en las instrucciones.\n",
    "\n",
    "* <span style=\"color:brown\"> Con los *'for'* realizados iteramos 3 veces para realizar las combinaciones solicitadas."
   ]
  },
  {
   "cell_type": "code",
   "execution_count": 52,
   "id": "8c9d26d3",
   "metadata": {},
   "outputs": [],
   "source": [
    "#Cerramos sesión\n",
    "conector.close()"
   ]
  },
  {
   "cell_type": "markdown",
   "id": "03eed568",
   "metadata": {
    "scrolled": true
   },
   "source": [
    "* #### Un archivo pgsql donde exportará la **base de datos** creada en el punto 1. Para generar el archivo, pueden implementar la siguiente línea **desde la consola**:\n",
    "\n",
    "<span style='background:gainsboro'><font color='dimgray'>pg_dump -U nombre_usuario nombre_tabla > apellido_nombre_sql_test.pgsql</font></span>"
   ]
  },
  {
   "attachments": {
    "image-2.png": {
     "image/png": "[encoded data removed]"
    }
   },
   "cell_type": "markdown",
   "id": "ad64f194",
   "metadata": {},
   "source": [
    "![image-2.png](attachment:image-2.png)"
   ]
  },
  {
   "cell_type": "markdown",
   "id": "e08cd0fb",
   "metadata": {},
   "source": [
    "___________________"
   ]
  },
  {
   "cell_type": "markdown",
   "id": "a5b57d46",
   "metadata": {},
   "source": [
    "______________"
   ]
  },
  {
   "cell_type": "markdown",
   "id": "cea94749",
   "metadata": {},
   "source": [
    "________________________"
   ]
  }
 ],
 "metadata": {
  "kernelspec": {
   "display_name": "Python 3",
   "language": "python",
   "name": "python3"
  },
  "language_info": {
   "codemirror_mode": {
    "name": "ipython",
    "version": 3
   },
   "file_extension": ".py",
   "mimetype": "text/x-python",
   "name": "python",
   "nbconvert_exporter": "python",
   "pygments_lexer": "ipython3",
   "version": "3.9.12"
  }
 },
 "nbformat": 4,
 "nbformat_minor": 5
}
